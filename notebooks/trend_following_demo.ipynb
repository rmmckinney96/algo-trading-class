{
 "cells": [
  {
   "cell_type": "markdown",
   "metadata": {},
   "source": [
    "# Trend Following Strategy Demo\n",
    "\n",
    "This notebook demonstrates the implementation and results of a basic trend following strategy."
   ]
  },
  {
   "cell_type": "code",
   "execution_count": 1,
   "metadata": {},
   "outputs": [
    {
     "ename": "ModuleNotFoundError",
     "evalue": "No module named 'trading_strategy'",
     "output_type": "error",
     "traceback": [
      "\u001b[0;31m---------------------------------------------------------------------------\u001b[0m",
      "\u001b[0;31mModuleNotFoundError\u001b[0m                       Traceback (most recent call last)",
      "Cell \u001b[0;32mIn[1], line 6\u001b[0m\n\u001b[1;32m      3\u001b[0m \u001b[38;5;28;01mimport\u001b[39;00m \u001b[38;5;21;01mmatplotlib\u001b[39;00m\u001b[38;5;21;01m.\u001b[39;00m\u001b[38;5;21;01mpyplot\u001b[39;00m \u001b[38;5;28;01mas\u001b[39;00m \u001b[38;5;21;01mplt\u001b[39;00m\n\u001b[1;32m      4\u001b[0m \u001b[38;5;28;01mfrom\u001b[39;00m \u001b[38;5;21;01mdatetime\u001b[39;00m \u001b[38;5;28;01mimport\u001b[39;00m datetime\n\u001b[0;32m----> 6\u001b[0m \u001b[38;5;28;01mfrom\u001b[39;00m \u001b[38;5;21;01mtrading_strategy\u001b[39;00m\u001b[38;5;21;01m.\u001b[39;00m\u001b[38;5;21;01mmodels\u001b[39;00m\u001b[38;5;21;01m.\u001b[39;00m\u001b[38;5;21;01mstrategy_config\u001b[39;00m \u001b[38;5;28;01mimport\u001b[39;00m StrategyConfig, RiskConfig\n\u001b[1;32m      7\u001b[0m \u001b[38;5;28;01mfrom\u001b[39;00m \u001b[38;5;21;01mtrading_strategy\u001b[39;00m\u001b[38;5;21;01m.\u001b[39;00m\u001b[38;5;21;01mstrategies\u001b[39;00m\u001b[38;5;21;01m.\u001b[39;00m\u001b[38;5;21;01mtrend_following\u001b[39;00m \u001b[38;5;28;01mimport\u001b[39;00m TrendFollowingStrategy\n\u001b[1;32m      8\u001b[0m \u001b[38;5;28;01mfrom\u001b[39;00m \u001b[38;5;21;01mtrading_strategy\u001b[39;00m\u001b[38;5;21;01m.\u001b[39;00m\u001b[38;5;21;01mmodels\u001b[39;00m\u001b[38;5;21;01m.\u001b[39;00m\u001b[38;5;21;01mmarket_data\u001b[39;00m \u001b[38;5;28;01mimport\u001b[39;00m MarketData\n",
      "\u001b[0;31mModuleNotFoundError\u001b[0m: No module named 'trading_strategy'"
     ]
    }
   ],
   "source": [
    "import pandas as pd\n",
    "import numpy as np\n",
    "import matplotlib.pyplot as plt\n",
    "from datetime import datetime\n",
    "\n",
    "from trading_strategy.models.strategy_config import StrategyConfig, RiskConfig\n",
    "from trading_strategy.strategies.trend_following import TrendFollowingStrategy\n",
    "from trading_strategy.models.market_data import MarketData"
   ]
  },
  {
   "cell_type": "markdown",
   "metadata": {},
   "source": [
    "## 1. Load and Prepare Data"
   ]
  },
  {
   "cell_type": "code",
   "execution_count": null,
   "metadata": {},
   "outputs": [],
   "source": [
    "# Load sample data (replace with your data source)\n",
    "df = pd.read_csv('path_to_your_data.csv')\n",
    "\n",
    "# Convert to MarketData objects\n",
    "market_data = [\n",
    "    MarketData(\n",
    "        timestamp=pd.to_datetime(row['date']),\n",
    "        symbol='USDJPY',\n",
    "        open=row['open'],\n",
    "        high=row['high'],\n",
    "        low=row['low'],\n",
    "        close=row['close'],\n",
    "        volume=row.get('volume', None)\n",
    "    ) for _, row in df.iterrows()\n",
    "]"
   ]
  },
  {
   "cell_type": "markdown",
   "metadata": {},
   "source": [
    "## 2. Configure Strategy"
   ]
  },
  {
   "cell_type": "code",
   "execution_count": null,
   "metadata": {},
   "outputs": [],
   "source": [
    "# Define risk configuration\n",
    "risk_config = RiskConfig(\n",
    "    max_position_risk=0.02,\n",
    "    max_drawdown=0.10,\n",
    "    waiting_period_hours=72,\n",
    "    max_weekly_trades=5,\n",
    "    trailing_stop_pct=0.02\n",
    ")\n",
    "\n",
    "# Create strategy configuration\n",
    "strategy_config = StrategyConfig(\n",
    "    initial_capital=100000,\n",
    "    risk_config=risk_config,\n",
    "    symbol='USDJPY',\n",
    "    indicators=['sma_20', 'sma_50', 'atr']\n",
    ")\n",
    "\n",
    "# Initialize strategy\n",
    "strategy = TrendFollowingStrategy(strategy_config)"
   ]
  },
  {
   "cell_type": "markdown",
   "metadata": {},
   "source": [
    "## 3. Run Backtest"
   ]
  },
  {
   "cell_type": "code",
   "execution_count": null,
   "metadata": {},
   "outputs": [],
   "source": [
    "# Process each market data point\n",
    "equity_curve = []\n",
    "positions = []\n",
    "\n",
    "for data in market_data:\n",
    "    # Calculate indicators\n",
    "    data_with_indicators = strategy.calculate_indicators(data)\n",
    "    \n",
    "    # Check for position exit\n",
    "    if strategy.position and strategy.check_exit_conditions(data_with_indicators):\n",
    "        trade = strategy.close_position(data_with_indicators)\n",
    "        positions.append(trade)\n",
    "    \n",
    "    # Check for position entry\n",
    "    elif not strategy.position and strategy.check_entry_conditions(data_with_indicators):\n",
    "        position_size = strategy.calculate_position_size(data_with_indicators)\n",
    "        strategy.open_position(data_with_indicators, position_size)\n",
    "    \n",
    "    # Record equity\n",
    "    equity_curve.append({\n",
    "        'timestamp': data.timestamp,\n",
    "        'equity': strategy.current_equity\n",
    "    })"
   ]
  },
  {
   "cell_type": "markdown",
   "metadata": {},
   "source": [
    "## 4. Analyze Results"
   ]
  },
  {
   "cell_type": "code",
   "execution_count": null,
   "metadata": {},
   "outputs": [],
   "source": [
    "# Convert results to DataFrame\n",
    "equity_df = pd.DataFrame(equity_curve)\n",
    "trades_df = pd.DataFrame([vars(trade) for trade in positions])\n",
    "\n",
    "# Calculate key metrics\n",
    "total_return = (equity_df['equity'].iloc[-1] / strategy_config.initial_capital - 1) * 100\n",
    "win_rate = len(trades_df[trades_df['pnl'] > 0]) / len(trades_df) * 100\n",
    "max_drawdown = (equity_df['equity'].max() - equity_df['equity'].min()) / equity_df['equity'].max() * 100\n",
    "\n",
    "print(f\"Total Return: {total_return:.2f}%\")\n",
    "print(f\"Win Rate: {win_rate:.2f}%\")\n",
    "print(f\"Max Drawdown: {max_drawdown:.2f}%\")\n",
    "print(f\"Total Trades: {len(trades_df)}\")"
   ]
  },
  {
   "cell_type": "markdown",
   "metadata": {},
   "source": [
    "## 5. Visualize Results"
   ]
  },
  {
   "cell_type": "code",
   "execution_count": null,
   "metadata": {},
   "outputs": [],
   "source": [
    "plt.figure(figsize=(15, 8))\n",
    "\n",
    "# Plot equity curve\n",
    "plt.subplot(2, 1, 1)\n",
    "plt.plot(equity_df['timestamp'], equity_df['equity'])\n",
    "plt.title('Equity Curve')\n",
    "plt.grid(True)\n",
    "\n",
    "# Plot trade PnL distribution\n",
    "plt.subplot(2, 1, 2)\n",
    "trades_df['pnl'].hist(bins=50)\n",
    "plt.title('Trade PnL Distribution')\n",
    "plt.grid(True)\n",
    "\n",
    "plt.tight_layout()\n",
    "plt.show()"
   ]
  }
 ],
 "metadata": {
  "kernelspec": {
   "display_name": "Python 3",
   "language": "python",
   "name": "python3"
  },
  "language_info": {
   "codemirror_mode": {
    "name": "ipython",
    "version": 3
   },
   "file_extension": ".py",
   "mimetype": "text/x-python",
   "name": "python",
   "nbconvert_exporter": "python",
   "pygments_lexer": "ipython3",
   "version": "3.12.4"
  }
 },
 "nbformat": 4,
 "nbformat_minor": 4
}
